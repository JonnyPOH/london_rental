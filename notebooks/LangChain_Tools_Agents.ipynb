{
 "cells": [
  {
   "cell_type": "markdown",
   "id": "b03b1d4e",
   "metadata": {},
   "source": [
    "# Query Rightmove with LangChain | OpenAI | Python | bs4"
   ]
  },
  {
   "cell_type": "code",
   "execution_count": 49,
   "id": "2beee96b",
   "metadata": {},
   "outputs": [
    {
     "data": {
      "text/plain": [
       "True"
      ]
     },
     "execution_count": 49,
     "metadata": {},
     "output_type": "execute_result"
    }
   ],
   "source": [
    "import os\n",
    "from dotenv import load_dotenv\n",
    "load_dotenv()"
   ]
  },
  {
   "cell_type": "code",
   "execution_count": 51,
   "id": "26ec58f3",
   "metadata": {},
   "outputs": [],
   "source": [
    "import statistics\n",
    "import requests\n",
    "from bs4 import BeautifulSoup"
   ]
  },
  {
   "cell_type": "code",
   "execution_count": 53,
   "id": "eaa9f3aa",
   "metadata": {},
   "outputs": [],
   "source": [
    "url='https://www.rightmove.co.uk/property-for-sale/find.html?locationIdentifier=REGION%5E116&maxBedrooms=3&minBedrooms=3&maxPrice=325000&propertyTypes=&includeSSTC=false&mustHave=&dontShow=&furnishTypes=&keywords='\n",
    "url_me='https://www.rightmove.co.uk/property-for-sale/find.html?minBedrooms=2&keywords=&sortType=2&minPrice=250000&viewType=LIST&channel=BUY&index=0&radius=0.0&locationIdentifier=USERDEFINEDAREA%5E%7B%22id%22%3A8289123%7D'"
   ]
  },
  {
   "cell_type": "markdown",
   "id": "86c90b43",
   "metadata": {},
   "source": [
    "## The Tools"
   ]
  },
  {
   "cell_type": "code",
   "execution_count": 156,
   "id": "0d6b83e7",
   "metadata": {},
   "outputs": [
    {
     "data": {
      "text/plain": [
       "['650000',\n",
       " '60000000',\n",
       " '45000000',\n",
       " '45000000',\n",
       " '43700000',\n",
       " '35000000',\n",
       " '35000000',\n",
       " '35000000',\n",
       " '35000000',\n",
       " '35000000',\n",
       " '32000000',\n",
       " '32000000',\n",
       " '32000000',\n",
       " '32000000',\n",
       " '30000000',\n",
       " '30000000',\n",
       " '29975000',\n",
       " '29950000',\n",
       " '29950000',\n",
       " '29700000',\n",
       " '29700000',\n",
       " '29500000',\n",
       " '29500000',\n",
       " '28000000',\n",
       " '28000000']"
      ]
     },
     "execution_count": 156,
     "metadata": {},
     "output_type": "execute_result"
    }
   ],
   "source": [
    "# USE THIS ONE\n",
    "def get_median_price(url=url) -> str:\n",
    "    headers = { 'User-Agent': 'Mozilla/5.0 (X11; Ubuntu; Linux x86_64; rv:52.0) Gecko/20100101 Firefox/52.0' }\n",
    "    response = requests.get(url, headers=headers)\n",
    "\n",
    "    # Scrape the content\n",
    "\n",
    "    soup = BeautifulSoup(response.text, \"html.parser\")\n",
    "\n",
    "    props = soup.find_all(\"div\", class_=\"l-searchResult is-list\")\n",
    "\n",
    "    location_l = []\n",
    "    address_l = []\n",
    "    price_l = []\n",
    "    for i in range(len(props)):\n",
    "        prop = props[i]\n",
    "        location = (\n",
    "            prop.find(\"address\", itemprop='address')\n",
    "            .get_text()\n",
    "            .replace(\",\",\"\")\n",
    "            .replace(\"\\n\",\"\")\n",
    "            .strip(\"£\")\n",
    "            .strip()\n",
    "        )\n",
    "        location_l.append(location)\n",
    "\n",
    "        address = (\n",
    "            prop.find(\"h2\", class_=\"propertyCard-title\")\n",
    "            .get_text()\n",
    "            .replace(\",\",\"\")\n",
    "            .replace(\"\\n\",\"\")\n",
    "            .strip(\"£\")\n",
    "            .strip()\n",
    "        )\n",
    "        address_l.append(address)\n",
    "\n",
    "        price = (\n",
    "            prop.find(\"div\", class_=\"propertyCard-priceValue\")\n",
    "            .get_text()\n",
    "            .replace(\",\",\"\")\n",
    "            .strip(\"£\")\n",
    "            .strip()\n",
    "        )\n",
    "        price_l.append(price)\n",
    "    return location_l, address_l, price_l"
   ]
  },
  {
   "cell_type": "code",
   "execution_count": null,
   "id": "f8318cc4",
   "metadata": {},
   "outputs": [],
   "source": [
    "location_l, address_l, price_l = get_median_price(url_me)"
   ]
  },
  {
   "cell_type": "code",
   "execution_count": 157,
   "id": "c276a680",
   "metadata": {},
   "outputs": [
    {
     "name": "stdout",
     "output_type": "stream",
     "text": [
      "Data saved to properties.csv\n"
     ]
    }
   ],
   "source": [
    "data = {\n",
    "    'Location': location_l,\n",
    "    'Address': address_l,\n",
    "    'Price': price_l\n",
    "}\n",
    "df = pd.DataFrame(data)\n",
    "# Clean and convert price to a numeric type for BigQuery\n",
    "df['Price'] = df['Price'].str.extract('(\\d+,\\d+|\\d+)').replace(\",\", \"\", regex=True).astype(float)\n",
    "\n",
    "# Save the DataFrame to a CSV file\n",
    "csv_file = 'properties.csv'\n",
    "df.to_csv(csv_file, index=False)\n",
    "\n",
    "print(f\"Data saved to {csv_file}\")"
   ]
  }
 ],
 "metadata": {
  "kernelspec": {
   "display_name": "Python 3 (ipykernel)",
   "language": "python",
   "name": "python3"
  },
  "language_info": {
   "codemirror_mode": {
    "name": "ipython",
    "version": 3
   },
   "file_extension": ".py",
   "mimetype": "text/x-python",
   "name": "python",
   "nbconvert_exporter": "python",
   "pygments_lexer": "ipython3",
   "version": "3.10.6"
  }
 },
 "nbformat": 4,
 "nbformat_minor": 5
}
