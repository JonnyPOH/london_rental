{
 "cells": [
  {
   "cell_type": "code",
   "execution_count": 1,
   "metadata": {},
   "outputs": [
    {
     "name": "stdout",
     "output_type": "stream",
     "text": [
      "You can't divide by zero!\n"
     ]
    }
   ],
   "source": [
    "def divide(a, b):\n",
    "    if b == 0:\n",
    "        raise ZeroDivisionError(\"You can't divide by zero!\")\n",
    "    return a / b\n",
    "\n",
    "try:\n",
    "    divide(10, 0)\n",
    "except ZeroDivisionError as e:\n",
    "    print(e)  # Output: You can't divide by zero!\n"
   ]
  },
  {
   "cell_type": "code",
   "execution_count": 3,
   "metadata": {},
   "outputs": [
    {
     "name": "stdout",
     "output_type": "stream",
     "text": [
      "Something is happening before the function is called.\n",
      "Hello!\n",
      "Something is happening after the function is called.\n"
     ]
    }
   ],
   "source": [
    "def my_decorator(func):\n",
    "    def wrapper():\n",
    "        print(\"Something is happening before the function is called.\")\n",
    "        result = func()\n",
    "        print(\"Something is happening after the function is called.\")\n",
    "        return result\n",
    "    return wrapper\n",
    "\n",
    "@my_decorator\n",
    "def say_hello():\n",
    "    print(\"Hello!\")\n",
    "\n",
    "say_hello()\n"
   ]
  },
  {
   "cell_type": "code",
   "execution_count": 1,
   "metadata": {},
   "outputs": [
    {
     "name": "stdout",
     "output_type": "stream",
     "text": [
      "\u001b[1;35mNote: NumExpr detected 12 cores but \"NUMEXPR_MAX_THREADS\" not set, so enforcing safe limit of 8.\u001b[0m\n",
      "\u001b[1;35mNumExpr defaulting to 8 threads.\u001b[0m\n",
      "Active stack components: {<StackComponentType.ORCHESTRATOR: 'orchestrator'>: LocalOrchestrator(type=orchestrator, flavor=local, ), <StackComponentType.ARTIFACT_STORE: 'artifact_store'>: LocalArtifactStore(type=artifact_store, flavor=local, path=)}\n",
      "No experiment tracker found in the active stack.\n"
     ]
    }
   ],
   "source": [
    "from zenml.client import Client\n",
    "\n",
    "client = Client()\n",
    "active_stack = client.active_stack\n",
    "\n",
    "# Check the components of the active stack\n",
    "print(\"Active stack components:\", active_stack.components)\n",
    "\n",
    "# Check if experiment_tracker is part of the active stack\n",
    "if 'experiment_tracker' in active_stack.components:\n",
    "    experiment_tracker = active_stack.experiment_tracker\n",
    "    print(\"Experiment Tracker Name:\", experiment_tracker.name)\n",
    "else:\n",
    "    print(\"No experiment tracker found in the active stack.\")\n"
   ]
  },
  {
   "cell_type": "code",
   "execution_count": 20,
   "metadata": {},
   "outputs": [],
   "source": [
    "from zenml.client import Client\n",
    "\n",
    "\n",
    "experiment_tracker = Client().active_stack\n"
   ]
  },
  {
   "cell_type": "code",
   "execution_count": 23,
   "metadata": {},
   "outputs": [
    {
     "name": "stdout",
     "output_type": "stream",
     "text": [
      "orchestrator: LocalOrchestrator(type=orchestrator, flavor=local, )\n",
      "artifact_store: LocalArtifactStore(type=artifact_store, flavor=local, path=)\n"
     ]
    }
   ],
   "source": [
    "for component_type, component in experiment_tracker.components.items():\n",
    "    print(f\"{component_type}: {component}\")"
   ]
  },
  {
   "cell_type": "code",
   "execution_count": 18,
   "metadata": {},
   "outputs": [
    {
     "name": "stdout",
     "output_type": "stream",
     "text": [
      "LocalOrchestrator(type=orchestrator, flavor=local, )\n"
     ]
    }
   ],
   "source": [
    "print(experiment_tracker)"
   ]
  },
  {
   "cell_type": "code",
   "execution_count": null,
   "metadata": {},
   "outputs": [],
   "source": []
  }
 ],
 "metadata": {
  "kernelspec": {
   "display_name": "lewagon",
   "language": "python",
   "name": "python3"
  },
  "language_info": {
   "codemirror_mode": {
    "name": "ipython",
    "version": 3
   },
   "file_extension": ".py",
   "mimetype": "text/x-python",
   "name": "python",
   "nbconvert_exporter": "python",
   "pygments_lexer": "ipython3",
   "version": "3.10.6"
  }
 },
 "nbformat": 4,
 "nbformat_minor": 2
}
