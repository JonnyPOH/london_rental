{
 "cells": [
  {
   "cell_type": "code",
   "execution_count": 1,
   "metadata": {},
   "outputs": [],
   "source": [
    "from google.cloud import bigquery\n",
    "import os"
   ]
  },
  {
   "cell_type": "code",
   "execution_count": 2,
   "metadata": {},
   "outputs": [],
   "source": [
    "# Initialize a BigQuery client\n",
    "client = bigquery.Client(project='recommend-420412')\n",
    "\n",
    "# Define your BigQuery dataset and table\n",
    "dataset_id = 'rightmove_dataset'\n",
    "table_id = 'rightmove_table'\n"
   ]
  },
  {
   "cell_type": "code",
   "execution_count": 3,
   "metadata": {},
   "outputs": [
    {
     "name": "stdout",
     "output_type": "stream",
     "text": [
      "New working directory: /home/jonnyoh/code/JonnyPOH/recommend/raw_data\n"
     ]
    }
   ],
   "source": [
    "os.chdir(os.path.join(os.path.dirname(os.getcwd()),'raw_data'))\n",
    "print(\"New working directory:\", os.getcwd())"
   ]
  },
  {
   "cell_type": "code",
   "execution_count": 4,
   "metadata": {},
   "outputs": [
    {
     "name": "stdout",
     "output_type": "stream",
     "text": [
      "/home/jonnyoh/gcp/recommend-service.json\n"
     ]
    }
   ],
   "source": [
    "import os\n",
    "os.environ['GOOGLE_APPLICATION_CREDENTIALS'] = '/home/jonnyoh/gcp/recommend-service.json'\n",
    "\n",
    "# Check if the environment variable is set correctly\n",
    "print(os.getenv('GOOGLE_APPLICATION_CREDENTIALS'))\n"
   ]
  },
  {
   "cell_type": "code",
   "execution_count": 5,
   "metadata": {},
   "outputs": [],
   "source": [
    "# os.chdir(os.path.join(os.path.dirname(os.getcwd()),'raw_data'))\n",
    "# print(\"New working directory:\", os.getcwd())"
   ]
  },
  {
   "cell_type": "code",
   "execution_count": 8,
   "metadata": {},
   "outputs": [
    {
     "name": "stdout",
     "output_type": "stream",
     "text": [
      "Data uploaded to BigQuery table rightmove_dataset.rightmove_table\n"
     ]
    }
   ],
   "source": [
    "from google.cloud import bigquery\n",
    "import os\n",
    "\n",
    "# Create a BigQuery client\n",
    "client = bigquery.Client(project='recommend-420412')\n",
    "\n",
    "# Set dataset and table IDs\n",
    "dataset_id = 'rightmove_dataset'\n",
    "table_id = 'rightmove_table'\n",
    "\n",
    "# Create a job config\n",
    "job_config = bigquery.LoadJobConfig(\n",
    "    source_format=bigquery.SourceFormat.CSV,\n",
    "    skip_leading_rows=1,\n",
    "    autodetect=True,\n",
    ")\n",
    "\n",
    "# Get the dataset and table references\n",
    "dataset_ref = client.dataset(dataset_id)\n",
    "table_ref = dataset_ref.table(table_id)\n",
    "\n",
    "# Load the CSV file to BigQuery\n",
    "try:\n",
    "    with open('/home/jonnyoh/code/JonnyPOH/recommend/raw_data/properties.csv', 'rb') as file:\n",
    "        load_job = client.load_table_from_file(\n",
    "            file, table_ref, job_config=job_config\n",
    "        )\n",
    "    # Waits for the job to complete\n",
    "    load_job.result()\n",
    "    print(f\"Data uploaded to BigQuery table {dataset_id}.{table_id}\")\n",
    "except Exception as e:\n",
    "    print(f\"Failed to load data: {e}\")\n"
   ]
  },
  {
   "cell_type": "code",
   "execution_count": null,
   "metadata": {},
   "outputs": [],
   "source": []
  },
  {
   "cell_type": "code",
   "execution_count": null,
   "metadata": {},
   "outputs": [],
   "source": []
  }
 ],
 "metadata": {
  "kernelspec": {
   "display_name": "lewagon",
   "language": "python",
   "name": "python3"
  },
  "language_info": {
   "codemirror_mode": {
    "name": "ipython",
    "version": 3
   },
   "file_extension": ".py",
   "mimetype": "text/x-python",
   "name": "python",
   "nbconvert_exporter": "python",
   "pygments_lexer": "ipython3",
   "version": "3.10.6"
  }
 },
 "nbformat": 4,
 "nbformat_minor": 2
}
