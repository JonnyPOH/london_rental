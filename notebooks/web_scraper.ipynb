{
 "cells": [
  {
   "cell_type": "markdown",
   "id": "b03b1d4e",
   "metadata": {},
   "source": [
    "# Query Rightmove with LangChain | OpenAI | Python | bs4"
   ]
  },
  {
   "cell_type": "code",
   "execution_count": 8,
   "id": "2beee96b",
   "metadata": {},
   "outputs": [
    {
     "data": {
      "text/plain": [
       "True"
      ]
     },
     "execution_count": 8,
     "metadata": {},
     "output_type": "execute_result"
    }
   ],
   "source": [
    "import os\n",
    "import pandas as pd\n",
    "from dotenv import load_dotenv\n",
    "load_dotenv()"
   ]
  },
  {
   "cell_type": "code",
   "execution_count": 9,
   "id": "26ec58f3",
   "metadata": {},
   "outputs": [],
   "source": [
    "import statistics\n",
    "import requests\n",
    "from bs4 import BeautifulSoup"
   ]
  },
  {
   "cell_type": "code",
   "execution_count": 16,
   "id": "eaa9f3aa",
   "metadata": {},
   "outputs": [],
   "source": [
    "url='https://www.rightmove.co.uk/property-for-sale/find.html?locationIdentifier=REGION%5E116&maxBedrooms=3&minBedrooms=3&maxPrice=325000&propertyTypes=&includeSSTC=false&mustHave=&dontShow=&furnishTypes=&keywords='\n",
    "url_me='https://www.rightmove.co.uk/property-for-sale/find.html?minBedrooms=2&keywords=&sortType=2&minPrice=250000&viewType=LIST&channel=BUY&index=0&radius=0.0&locationIdentifier=USERDEFINEDAREA%5E%7B%22id%22%3A8289123%7D'\n",
    "\n",
    "\n",
    "url_base = 'https://www.rightmove.co.uk/property-for-sale/find.html?locationIdentifier=USERDEFINEDAREA%5E%7B%22id%22%3A8289123%7D&minBedrooms=2&minPrice=250000&index=24&propertyTypes=&mustHave=&dontShow=&furnishTypes=&keywords='"
   ]
  },
  {
   "cell_type": "code",
   "execution_count": 21,
   "id": "9b28d195",
   "metadata": {},
   "outputs": [
    {
     "data": {
      "text/plain": [
       "'https://www.rightmove.co.uk/property-for-sale/find.html?locationIdentifier=USERDEFINEDAREA%5E%7B%22id%22%3A8289123%7D&minBedrooms=2&minPrice=250000&index=24&propertyTypes=&mustHave=&dontShow=&furnishTypes=&keywords=&index=48'"
      ]
     },
     "execution_count": 21,
     "metadata": {},
     "output_type": "execute_result"
    }
   ],
   "source": [
    "url_test = f\"{url_base}&index={24 + 24}\"\n",
    "url_test"
   ]
  },
  {
   "cell_type": "markdown",
   "id": "86c90b43",
   "metadata": {},
   "source": [
    "## The Tools"
   ]
  },
  {
   "cell_type": "code",
   "execution_count": 32,
   "id": "0d6b83e7",
   "metadata": {},
   "outputs": [],
   "source": [
    "# USE THIS ONE\n",
    "def details(start_index=24, increment=24, max_pages=40) -> float:\n",
    "    headers = { 'User-Agent': 'Mozilla/5.0 (X11; Ubuntu; Linux x86_64; rv:52.0) Gecko/20100101 Firefox/52.0' }\n",
    "\n",
    "    location_l = []\n",
    "    address_l = []\n",
    "    price_l = []\n",
    "\n",
    "    for page in range(max_pages):\n",
    "        # Modify the index for each page\n",
    "        url = f'https://www.rightmove.co.uk/property-for-sale/find.html?locationIdentifier=USERDEFINEDAREA%5E%7B%22id%22%3A8289123%7D&minBedrooms=2&minPrice=250000&index={start_index + page * increment}&propertyTypes=&mustHave=&dontShow=&furnishTypes=&keywords='\n",
    "        response = requests.get(url, headers=headers)\n",
    "\n",
    "        # Check if the request was successful\n",
    "        if response.status_code != 200:\n",
    "            print(f\"Failed to retrieve the page with index {start_index + page * increment}. Status code: {response.status_code}\")\n",
    "            continue\n",
    "\n",
    "        # Scrape the content\n",
    "\n",
    "        soup = BeautifulSoup(response.text, \"html.parser\")\n",
    "\n",
    "        props = soup.find_all(\"div\", class_=\"l-searchResult is-list\")\n",
    "\n",
    "\n",
    "        # If no properties are found, we assume we've reached the last page\n",
    "        if not props:\n",
    "            print(\"No more properties found. Ending search.\")\n",
    "            break\n",
    "\n",
    "        for i in range(len(props)):\n",
    "            prop = props[i]\n",
    "            location = (\n",
    "                prop.find(\"address\", itemprop='address')\n",
    "                .get_text()\n",
    "                .replace(\",\",\"\")\n",
    "                .replace(\"\\n\",\"\")\n",
    "                .strip(\"£\")\n",
    "                .strip()\n",
    "            )\n",
    "            location_l.append(location)\n",
    "\n",
    "            address = (\n",
    "                prop.find(\"h2\", class_=\"propertyCard-title\")\n",
    "                .get_text()\n",
    "                .replace(\",\",\"\")\n",
    "                .replace(\"\\n\",\"\")\n",
    "                .strip(\"£\")\n",
    "                .strip()\n",
    "            )\n",
    "            address_l.append(address)\n",
    "\n",
    "            price = (\n",
    "                prop.find(\"div\", class_=\"propertyCard-priceValue\")\n",
    "                .get_text()\n",
    "                .replace(\",\",\"\")\n",
    "                .strip(\"£\")\n",
    "                .strip()\n",
    "            )\n",
    "            price_l.append(price)\n",
    "    return location_l, address_l, price_l"
   ]
  },
  {
   "cell_type": "code",
   "execution_count": 33,
   "id": "f8318cc4",
   "metadata": {},
   "outputs": [],
   "source": [
    "location_l, address_l, price_l = details()"
   ]
  },
  {
   "cell_type": "code",
   "execution_count": 34,
   "id": "c276a680",
   "metadata": {},
   "outputs": [
    {
     "name": "stdout",
     "output_type": "stream",
     "text": [
      "Data saved to properties.csv\n"
     ]
    }
   ],
   "source": [
    "data = {\n",
    "    'Location': location_l,\n",
    "    'Address': address_l,\n",
    "    'Price': price_l\n",
    "}\n",
    "df = pd.DataFrame(data)\n",
    "# Clean and convert price to a numeric type for BigQuery\n",
    "df['Price'] = df['Price'].str.extract('(\\d+,\\d+|\\d+)').replace(\",\", \"\", regex=True).astype(float)\n",
    "\n",
    "# Save the DataFrame to a CSV file\n",
    "csv_file = 'properties.csv'\n",
    "df.to_csv(csv_file, index=False)\n",
    "\n",
    "print(f\"Data saved to {csv_file}\")"
   ]
  },
  {
   "cell_type": "code",
   "execution_count": null,
   "id": "c3e344f4",
   "metadata": {},
   "outputs": [],
   "source": []
  }
 ],
 "metadata": {
  "kernelspec": {
   "display_name": "Python 3 (ipykernel)",
   "language": "python",
   "name": "python3"
  },
  "language_info": {
   "codemirror_mode": {
    "name": "ipython",
    "version": 3
   },
   "file_extension": ".py",
   "mimetype": "text/x-python",
   "name": "python",
   "nbconvert_exporter": "python",
   "pygments_lexer": "ipython3",
   "version": "3.10.6"
  }
 },
 "nbformat": 4,
 "nbformat_minor": 5
}
